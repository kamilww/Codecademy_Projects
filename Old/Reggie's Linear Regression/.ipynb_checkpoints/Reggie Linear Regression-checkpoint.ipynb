{
 "cells": [
  {
   "cell_type": "code",
   "execution_count": 15,
   "id": "classical-trauma",
   "metadata": {},
   "outputs": [
    {
     "name": "stdout",
     "output_type": "stream",
     "text": [
      "0.3 1.7 5.0\n"
     ]
    }
   ],
   "source": [
    "#calculates y of given slope, intercept, and x value\n",
    "def get_y(m, b, x):\n",
    "    return m*x + b\n",
    "\n",
    "#calculates difference/error between actual x, y value and projected x, y value\n",
    "def calculate_error(m, b, point):\n",
    "    x_point, y_point = point\n",
    "    return abs((get_y(m, b, x_point)) - y_point)\n",
    "\n",
    "#calculates difference/error of a list of given datapoints and projected x, y values\n",
    "def calculate_all_error(m, b, datapoints):\n",
    "    total_error = 0\n",
    "    for point in datapoints:\n",
    "        total_error += calculate_error(m, b, point)\n",
    "    return total_error\n",
    "\n",
    "#obtains list of possible m values from -10 to 10 inclusive with step increments of .1\n",
    "possible_ms = [m*.1 for m in range(-100, 101)]\n",
    "\n",
    "#obtains list of possible m values from -20 to 20 inclusive with step increments of .1\n",
    "possible_bs = [b*.1 for b in range(-200, 201)]\n",
    "\n",
    "datapoints = [(1, 2), (2, 0), (3, 4), (4, 4), (5, 3)]\n",
    "\n",
    "smallest_error = (float(\"inf\"))\n",
    "best_m = 0\n",
    "best_b = 0\n",
    "\n",
    "for m in possible_ms:\n",
    "    for b in possible_bs:\n",
    "        error = calculate_all_error(m, b, datapoints)\n",
    "        if error < smallest_error:\n",
    "            best_m = m\n",
    "            best_b = b\n",
    "            smallest_error = error\n",
    "\n",
    "print(round(best_m, 2), round(best_b, 2), round(smallest_error, 2))"
   ]
  },
  {
   "cell_type": "markdown",
   "id": "formed-listing",
   "metadata": {},
   "source": [
    "##### "
   ]
  },
  {
   "cell_type": "code",
   "execution_count": null,
   "id": "legal-moment",
   "metadata": {},
   "outputs": [],
   "source": []
  },
  {
   "cell_type": "code",
   "execution_count": null,
   "id": "arranged-gospel",
   "metadata": {},
   "outputs": [],
   "source": []
  },
  {
   "cell_type": "code",
   "execution_count": null,
   "id": "several-fruit",
   "metadata": {},
   "outputs": [],
   "source": []
  },
  {
   "cell_type": "code",
   "execution_count": null,
   "id": "cloudy-samuel",
   "metadata": {},
   "outputs": [],
   "source": []
  },
  {
   "cell_type": "code",
   "execution_count": null,
   "id": "japanese-dining",
   "metadata": {},
   "outputs": [],
   "source": []
  },
  {
   "cell_type": "code",
   "execution_count": null,
   "id": "sublime-intent",
   "metadata": {},
   "outputs": [],
   "source": []
  },
  {
   "cell_type": "code",
   "execution_count": null,
   "id": "subject-effectiveness",
   "metadata": {},
   "outputs": [],
   "source": []
  }
 ],
 "metadata": {
  "kernelspec": {
   "display_name": "Python 3",
   "language": "python",
   "name": "python3"
  },
  "language_info": {
   "codemirror_mode": {
    "name": "ipython",
    "version": 3
   },
   "file_extension": ".py",
   "mimetype": "text/x-python",
   "name": "python",
   "nbconvert_exporter": "python",
   "pygments_lexer": "ipython3",
   "version": "3.9.1"
  }
 },
 "nbformat": 4,
 "nbformat_minor": 5
}
