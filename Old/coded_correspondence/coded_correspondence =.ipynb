{
 "cells": [
  {
   "cell_type": "code",
   "execution_count": 19,
   "id": "twelve-april",
   "metadata": {},
   "outputs": [
    {
     "name": "stdout",
     "output_type": "stream",
     "text": [
      "hey theree this is an example of a caesar cipherr were you able to decode itt i hope soo send me a message back with the same offsett\n"
     ]
    }
   ],
   "source": [
    "def decoder(string):\n",
    "    letters = 'abcdefghijklmnopqrstuvwxyz'\n",
    "    decoded_message = ''\n",
    "    for char in string:\n",
    "        if char == ' ':\n",
    "            decoded_message += ' '\n",
    "            continue\n",
    "        else:\n",
    "            i = 0\n",
    "            while i < len(letters):\n",
    "                if char == letters[i]:\n",
    "                    converted_letter = letters[(i+10)%26]\n",
    "                i+=1\n",
    "            decoded_message = decoded_message + converted_letter\n",
    "    print(decoded_message)\n",
    "\n",
    "decoder('xuo jxuhu! jxyi yi qd unqcfbu ev q squiqh syfxuh. muhu oek qrbu je tusetu yj? y xefu ie! iudt cu q cuiiqwu rqsa myjx jxu iqcu evviuj!')"
   ]
  },
  {
   "cell_type": "code",
   "execution_count": null,
   "id": "traditional-photographer",
   "metadata": {},
   "outputs": [],
   "source": []
  }
 ],
 "metadata": {
  "kernelspec": {
   "display_name": "Python 3",
   "language": "python",
   "name": "python3"
  },
  "language_info": {
   "codemirror_mode": {
    "name": "ipython",
    "version": 3
   },
   "file_extension": ".py",
   "mimetype": "text/x-python",
   "name": "python",
   "nbconvert_exporter": "python",
   "pygments_lexer": "ipython3",
   "version": "3.9.1"
  }
 },
 "nbformat": 4,
 "nbformat_minor": 5
}
